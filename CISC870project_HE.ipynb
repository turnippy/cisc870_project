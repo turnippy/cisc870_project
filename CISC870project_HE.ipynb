{
  "nbformat": 4,
  "nbformat_minor": 0,
  "metadata": {
    "colab": {
      "name": "CISC870project-HE.ipynb",
      "provenance": [],
      "collapsed_sections": []
    },
    "kernelspec": {
      "name": "python3",
      "display_name": "Python 3"
    },
    "language_info": {
      "name": "python"
    }
  },
  "cells": [
    {
      "cell_type": "code",
      "source": [
        "!pip install tenseal"
      ],
      "metadata": {
        "colab": {
          "base_uri": "https://localhost:8080/"
        },
        "id": "kUzl060RsvnI",
        "outputId": "38c82465-15c9-4ece-abbf-242001e44188"
      },
      "execution_count": 1,
      "outputs": [
        {
          "output_type": "stream",
          "name": "stdout",
          "text": [
            "Requirement already satisfied: tenseal in /usr/local/lib/python3.7/dist-packages (0.3.10)\n"
          ]
        }
      ]
    },
    {
      "cell_type": "code",
      "source": [
        "import tenseal as ts\n",
        "import random\n",
        "from time import time"
      ],
      "metadata": {
        "id": "pXFKn844srTL"
      },
      "execution_count": 2,
      "outputs": []
    },
    {
      "cell_type": "code",
      "source": [
        "class Server:\n",
        "  def __init__(self):\n",
        "    pass\n",
        "  \n",
        "  def process_guess(k_pub, solution, guess):\n",
        "    '''\n",
        "    Note: I have been trying to perform this calculation using multiplication, but\n",
        "    the only way I can think of is to do a multiplication in mod26 and check the\n",
        "    remainder to see if the guesses are in the correct spot. However, I do not\n",
        "    know how to perform the modulus multiplication (or if it is even supported)\n",
        "    in the current SEAL library.\n",
        "    '''\n",
        "    print('\\tComputations starting here are performed on the SERVER.')\n",
        "    print('\\tServer view of solution: {}'.format(solution))\n",
        "    print('\\tServer view of guess: {}'.format(guess))\n",
        "    result1 = solution - guess[0]\n",
        "    result2 = solution - guess[1]\n",
        "    result3 = solution - guess[2]\n",
        "    result4 = solution - guess[3]\n",
        "    result5 = solution - guess[4]\n",
        "    t_end = time()\n",
        "    print('Computations starting here are NO LONGER performed on the SERVER.')\n",
        "    return (result1, result2, result3, result4, result5)\n",
        "\n",
        "class Client:\n",
        "  def __init__(self, mod_degree=4096, plain_mod=1032193, words=['hello','world']):\n",
        "    '''\n",
        "    set up of encryption parameters using BFV scheme\n",
        "    '''\n",
        "    self.context = ts.context(ts.SCHEME_TYPE.BFV, poly_modulus_degree=mod_degree, plain_modulus=plain_mod)\n",
        "    self.public_context = ts.context(ts.SCHEME_TYPE.BFV, poly_modulus_degree=mod_degree, plain_modulus=plain_mod)\n",
        "    self.k_pr = self.public_context.secret_key()\n",
        "    self.public_context.make_context_public()\n",
        "    \n",
        "    self.word_list = words\n",
        "\n",
        "  def split_and_encrypt(self, guess):\n",
        "    g1 = ts.bfv_vector(self.context, [guess[0]] * 5)\n",
        "    g2 = ts.bfv_vector(self.context, [guess[1]] * 5)\n",
        "    g3 = ts.bfv_vector(self.context, [guess[2]] * 5)\n",
        "    g4 = ts.bfv_vector(self.context, [guess[3]] * 5)\n",
        "    g5 = ts.bfv_vector(self.context, [guess[4]] * 5)\n",
        "    return (g1, g2, g3, g4, g5)\n",
        "  \n",
        "  def process_and_decrypt(self, encrypted):\n",
        "    return [encrypted[0].decrypt(), encrypted[1].decrypt(), encrypted[2].decrypt(), encrypted[3].decrypt(), encrypted[4].decrypt()]\n",
        "\n",
        "  def play(self):\n",
        "    while True:\n",
        "      #play game loop\n",
        "      print(' x  represents that \"x\" is in the CORRECT spot.')\n",
        "      print('[x] represents that \"x\" is in the word, but NOT the correct spot.')\n",
        "      print('(x) represents that \"x\" is NOT in the word.')\n",
        "      print('Please only guess 5-letter words!')\n",
        "      print('Start game? (y/n):')\n",
        "      resp = input()\n",
        "      resp = resp.lower()\n",
        "      if resp == 'n':\n",
        "        print('Thanks for playing!')\n",
        "        break\n",
        "      elif resp == 'y':\n",
        "        print('Computations starting here are performed on the CLIENT.')\n",
        "        #the solution word and guesses are assumed to be perform from the client\n",
        "        #calculations are assumed to be performed on the side of the server\n",
        "        solution = random.choice(self.word_list)\n",
        "        solution_ascii = [] #get int-value of the word, the first plaintext vector\n",
        "        for c in solution:\n",
        "          solution_ascii.append(ord(c))\n",
        "        print('Client view of plaintext ascii solution: {}'.format(solution_ascii))\n",
        "\n",
        "        #encrypt the vector using the BFV scheme\n",
        "        solution_encrypted = ts.bfv_vector(self.context, solution_ascii)\n",
        "        \n",
        "        #start guessing loop\n",
        "        while True:\n",
        "          print('Please enter your guess: ', end='')\n",
        "          guess = input()\n",
        "          guess = guess.lower()\n",
        "          guess_ascii = []\n",
        "          for c in guess: #get int-value of the guess, the second plaintext vector\n",
        "            guess_ascii.append(ord(c))\n",
        "          #Start timing of encrypted computations\n",
        "          t_start = time()\n",
        "          guess_encrypted = self.split_and_encrypt(guess_ascii)\n",
        "\n",
        "          #mimic sending to server and process\n",
        "          response_encrypted = Server.process_guess(self.public_context, solution_encrypted, guess_encrypted)\n",
        "          print('Client view of encrypted response: {}'.format(response_encrypted))\n",
        "          response = self.process_and_decrypt(response_encrypted)\n",
        "          #End timing of encrypted computations\n",
        "          t_end = time()\n",
        "          print('\\tTotal computations took: {} ms'.format((t_end-t_start)*1000))\n",
        "          output = ''\n",
        "          total = 0\n",
        "          for i in range(5):\n",
        "            inner_total = 0\n",
        "            if response[i][i] == 0: #if the character is in the right spot\n",
        "              output += '{} '.format(guess[i])\n",
        "              total += 1\n",
        "            else:\n",
        "              for j in range(5):\n",
        "                if response[i][j] == 0: #check remaining spots\n",
        "                  if inner_total == 0:\n",
        "                    output += '[{}]'.format(guess[i])\n",
        "                  inner_total += 1\n",
        "              if inner_total == 0:\n",
        "                output += '({})'.format(guess[i])\n",
        "          print('Response from server: {}'.format(output))\n",
        "          if total >= 5:\n",
        "            print('CONGRATULATIONS! You guessed the word!')\n",
        "            break\n",
        "      else:\n",
        "        print('Invalid input, please enter \"y\" or \"n\"!')\n",
        "\n",
        "if __name__ == '__main__':\n",
        "  S = Server()\n",
        "  C = Client()\n",
        "  C.play()"
      ],
      "metadata": {
        "colab": {
          "base_uri": "https://localhost:8080/"
        },
        "id": "5xXfQMlmvAxE",
        "outputId": "ebc71ec7-0100-4950-e754-a06e77fe341c"
      },
      "execution_count": 4,
      "outputs": [
        {
          "output_type": "stream",
          "name": "stdout",
          "text": [
            " x  represents that \"x\" is in the CORRECT spot.\n",
            "[x] represents that \"x\" is in the word, but NOT the correct spot.\n",
            "(x) represents that \"x\" is NOT in the word.\n",
            "Please only guess 5-letter words!\n",
            "Start game? (y/n):\n",
            "y\n",
            "Computations starting here are performed on the CLIENT.\n",
            "Client view of plaintext ascii solution: [119, 111, 114, 108, 100]\n",
            "Please enter your guess: start\n",
            "\tComputations starting here are performed on the SERVER.\n",
            "\tServer view of solution: <tenseal.tensors.bfvvector.BFVVector object at 0x7face8990e90>\n",
            "\tServer view of guess: (<tenseal.tensors.bfvvector.BFVVector object at 0x7faceeae1810>, <tenseal.tensors.bfvvector.BFVVector object at 0x7face8990d50>, <tenseal.tensors.bfvvector.BFVVector object at 0x7face8990f50>, <tenseal.tensors.bfvvector.BFVVector object at 0x7fad00749310>, <tenseal.tensors.bfvvector.BFVVector object at 0x7face8990dd0>)\n",
            "Computations starting here are NO LONGER performed on the SERVER.\n",
            "Client view of encrypted response: (<tenseal.tensors.bfvvector.BFVVector object at 0x7face896b990>, <tenseal.tensors.bfvvector.BFVVector object at 0x7face8990e50>, <tenseal.tensors.bfvvector.BFVVector object at 0x7face892c090>, <tenseal.tensors.bfvvector.BFVVector object at 0x7face892c110>, <tenseal.tensors.bfvvector.BFVVector object at 0x7face892c190>)\n",
            "\tTotal computations took: 14.544010162353516 ms\n",
            "Response from server: (s)(t)(a)[r](t)\n",
            "Please enter your guess: asdfj\n",
            "\tComputations starting here are performed on the SERVER.\n",
            "\tServer view of solution: <tenseal.tensors.bfvvector.BFVVector object at 0x7face8990e90>\n",
            "\tServer view of guess: (<tenseal.tensors.bfvvector.BFVVector object at 0x7facec9eccd0>, <tenseal.tensors.bfvvector.BFVVector object at 0x7face8990d10>, <tenseal.tensors.bfvvector.BFVVector object at 0x7face8990c10>, <tenseal.tensors.bfvvector.BFVVector object at 0x7face8990c90>, <tenseal.tensors.bfvvector.BFVVector object at 0x7face896bb10>)\n",
            "Computations starting here are NO LONGER performed on the SERVER.\n",
            "Client view of encrypted response: (<tenseal.tensors.bfvvector.BFVVector object at 0x7face8990f90>, <tenseal.tensors.bfvvector.BFVVector object at 0x7face8990b50>, <tenseal.tensors.bfvvector.BFVVector object at 0x7face892c750>, <tenseal.tensors.bfvvector.BFVVector object at 0x7face892c790>, <tenseal.tensors.bfvvector.BFVVector object at 0x7face892c2d0>)\n",
            "\tTotal computations took: 14.12820816040039 ms\n",
            "Response from server: (a)(s)[d](f)(j)\n",
            "Please enter your guess: world\n",
            "\tComputations starting here are performed on the SERVER.\n",
            "\tServer view of solution: <tenseal.tensors.bfvvector.BFVVector object at 0x7face8990e90>\n",
            "\tServer view of guess: (<tenseal.tensors.bfvvector.BFVVector object at 0x7face896b910>, <tenseal.tensors.bfvvector.BFVVector object at 0x7face8990b10>, <tenseal.tensors.bfvvector.BFVVector object at 0x7face8990e50>, <tenseal.tensors.bfvvector.BFVVector object at 0x7face8990c50>, <tenseal.tensors.bfvvector.BFVVector object at 0x7fad00749310>)\n",
            "Computations starting here are NO LONGER performed on the SERVER.\n",
            "Client view of encrypted response: (<tenseal.tensors.bfvvector.BFVVector object at 0x7face892c290>, <tenseal.tensors.bfvvector.BFVVector object at 0x7face892cbd0>, <tenseal.tensors.bfvvector.BFVVector object at 0x7face892cc50>, <tenseal.tensors.bfvvector.BFVVector object at 0x7face892c8d0>, <tenseal.tensors.bfvvector.BFVVector object at 0x7face892cad0>)\n",
            "\tTotal computations took: 13.782024383544922 ms\n",
            "Response from server: w o r l d \n",
            "CONGRATULATIONS! You guessed the word!\n",
            " x  represents that \"x\" is in the CORRECT spot.\n",
            "[x] represents that \"x\" is in the word, but NOT the correct spot.\n",
            "(x) represents that \"x\" is NOT in the word.\n",
            "Please only guess 5-letter words!\n",
            "Start game? (y/n):\n",
            "n\n",
            "Thanks for playing!\n"
          ]
        }
      ]
    }
  ]
}