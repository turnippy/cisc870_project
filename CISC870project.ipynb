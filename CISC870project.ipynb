{
  "nbformat": 4,
  "nbformat_minor": 0,
  "metadata": {
    "colab": {
      "name": "CISC870project.ipynb",
      "provenance": [],
      "collapsed_sections": []
    },
    "kernelspec": {
      "name": "python3",
      "display_name": "Python 3"
    },
    "language_info": {
      "name": "python"
    }
  },
  "cells": [
    {
      "cell_type": "code",
      "source": [
        "!pip install tenseal"
      ],
      "metadata": {
        "colab": {
          "base_uri": "https://localhost:8080/"
        },
        "id": "kUzl060RsvnI",
        "outputId": "e537f1c9-7939-4f41-dff3-d11d6c761f9c"
      },
      "execution_count": 4,
      "outputs": [
        {
          "output_type": "stream",
          "name": "stdout",
          "text": [
            "Collecting tenseal\n",
            "  Downloading tenseal-0.3.10-cp37-cp37m-manylinux_2_17_x86_64.manylinux2014_x86_64.whl (4.9 MB)\n",
            "\u001b[K     |████████████████████████████████| 4.9 MB 12.7 MB/s \n",
            "\u001b[?25hInstalling collected packages: tenseal\n",
            "Successfully installed tenseal-0.3.10\n"
          ]
        }
      ]
    },
    {
      "cell_type": "code",
      "source": [
        "import tenseal as ts\n",
        "import random"
      ],
      "metadata": {
        "id": "pXFKn844srTL"
      },
      "execution_count": 41,
      "outputs": []
    },
    {
      "cell_type": "code",
      "source": [
        "context = ts.context(ts.SCHEME_TYPE.BFV, poly_modulus_degree=4096, plain_modulus=1032193)"
      ],
      "metadata": {
        "id": "n6EGL446s3T0"
      },
      "execution_count": 42,
      "outputs": []
    },
    {
      "cell_type": "code",
      "source": [
        "class Server:\n",
        "  def __init__(self):\n",
        "    pass\n",
        "  \n",
        "  def process_guess(k_pub, solution, guess):\n",
        "    '''\n",
        "    Note: I have been trying to perform this calculation using multiplication, but\n",
        "    the only way I can think of is to do a multiplication in mod26 and check the\n",
        "    remainder to see if the guesses are in the correct spot. However, I do not\n",
        "    know how to perform the modulus multiplication (or if it is even supported)\n",
        "    in the current SEAL library.\n",
        "    '''\n",
        "    print('\\tComputations starting here are performed on the SERVER.')\n",
        "    print('\\tServer view of solution: {}'.format(solution))\n",
        "    print('\\tServer view of guess: {}'.format(guess))\n",
        "    result1 = solution - guess[0]\n",
        "    result2 = solution - guess[1]\n",
        "    result3 = solution - guess[2]\n",
        "    result4 = solution - guess[3]\n",
        "    result5 = solution - guess[4]\n",
        "    print('Computations starting here are NO LONGER performed on the SERVER.')\n",
        "    return (result1, result2, result3, result4, result5)\n",
        "\n",
        "class Client:\n",
        "  def __init__(self, mod_degree=4096, plain_mod=1032193, words=['hello','world']):\n",
        "    '''\n",
        "    set up of encryption parameters using BFV scheme\n",
        "    '''\n",
        "    self.context = ts.context(ts.SCHEME_TYPE.BFV, poly_modulus_degree=mod_degree, plain_modulus=plain_mod)\n",
        "    self.public_context = ts.context(ts.SCHEME_TYPE.BFV, poly_modulus_degree=mod_degree, plain_modulus=plain_mod)\n",
        "    self.k_pr = self.public_context.secret_key()\n",
        "    self.public_context.make_context_public()\n",
        "    \n",
        "    self.word_list = words\n",
        "\n",
        "  def split_and_encrypt(self, guess):\n",
        "    g1 = ts.bfv_vector(self.context, [guess[0]] * 5)\n",
        "    g2 = ts.bfv_vector(self.context, [guess[1]] * 5)\n",
        "    g3 = ts.bfv_vector(self.context, [guess[2]] * 5)\n",
        "    g4 = ts.bfv_vector(self.context, [guess[3]] * 5)\n",
        "    g5 = ts.bfv_vector(self.context, [guess[4]] * 5)\n",
        "    return (g1, g2, g3, g4, g5)\n",
        "  \n",
        "  def process_and_decrypt(self, encrypted):\n",
        "    return [encrypted[0].decrypt(), encrypted[1].decrypt(), encrypted[2].decrypt(), encrypted[3].decrypt(), encrypted[4].decrypt()]\n",
        "\n",
        "  def play(self):\n",
        "    while True:\n",
        "      #play game loop\n",
        "      print(' x  represents that \"x\" is in the CORRECT spot.')\n",
        "      print('[x] represents that \"x\" is in the word, but NOT the correct spot.')\n",
        "      print('(x) represents that \"x\" is NOT in the word.')\n",
        "      print('Please only guess 5-letter words!')\n",
        "      print('Start game? (y/n):')\n",
        "      resp = input()\n",
        "      resp = resp.lower()\n",
        "      if resp == 'n':\n",
        "        print('Thanks for playing!')\n",
        "        break\n",
        "      elif resp == 'y':\n",
        "        print('Computations starting here are performed on the CLIENT.')\n",
        "        #the solution word and guesses are assumed to be perform from the client\n",
        "        #calculations are assumed to be performed on the side of the server\n",
        "        solution = random.choice(self.word_list)\n",
        "        solution_ascii = [] #get int-value of the word, the first plaintext vector\n",
        "        for c in solution:\n",
        "          solution_ascii.append(ord(c))\n",
        "        print('Client view of plaintext ascii solution: {}'.format(solution_ascii))\n",
        "\n",
        "        #encrypt the vector using the BFV scheme\n",
        "        solution_encrypted = ts.bfv_vector(self.context, solution_ascii)\n",
        "        \n",
        "        #start guessing loop\n",
        "        while True:\n",
        "          print('Please enter your guess: ', end='')\n",
        "          guess = input()\n",
        "          guess = guess.lower()\n",
        "          guess_ascii = []\n",
        "          for c in guess: #get int-value of the guess, the second plaintext vector\n",
        "            guess_ascii.append(ord(c))\n",
        "\n",
        "          guess_encrypted = self.split_and_encrypt(guess_ascii)\n",
        "\n",
        "          #mimic sending to server and process\n",
        "          response_encrypted = Server.process_guess(self.public_context, solution_encrypted, guess_encrypted)\n",
        "          print('Client view of encrypted response: {}'.format(response_encrypted))\n",
        "          response = self.process_and_decrypt(response_encrypted)\n",
        "          output = ''\n",
        "          total = 0\n",
        "          for i in range(5):\n",
        "            inner_total = 0\n",
        "            if response[i][i] == 0: #if the character is in the right spot\n",
        "              output += '{} '.format(guess[i])\n",
        "              total += 1\n",
        "            else:\n",
        "              for j in range(5):\n",
        "                if response[i][j] == 0: #check remaining spots\n",
        "                  if inner_total == 0:\n",
        "                    output += '[{}]'.format(guess[i])\n",
        "                  inner_total += 1\n",
        "              if inner_total == 0:\n",
        "                output += '({})'.format(guess[i])\n",
        "          print('Response from server: {}'.format(output))\n",
        "          if total >= 5:\n",
        "            print('CONGRATULATIONS! You guessed the word!')\n",
        "            break\n",
        "      else:\n",
        "        print('Invalid input, please enter \"y\" or \"n\"!')\n",
        "\n",
        "if __name__ == '__main__':\n",
        "  S = Server()\n",
        "  C = Client()\n",
        "  C.play()"
      ],
      "metadata": {
        "colab": {
          "base_uri": "https://localhost:8080/"
        },
        "id": "5xXfQMlmvAxE",
        "outputId": "1fc9401f-0824-4203-b65c-eb4502dcfe3b"
      },
      "execution_count": 43,
      "outputs": [
        {
          "output_type": "stream",
          "name": "stdout",
          "text": [
            " x  represents that \"x\" is in the CORRECT spot.\n",
            "[x] represents that \"x\" is in the word, but NOT the correct spot.\n",
            "(x) represents that \"x\" is NOT in the word.\n",
            "Please only guess 5-letter words!\n",
            "Start game? (y/n):\n",
            "y\n",
            "Computations starting here are performed on the CLIENT.\n",
            "Client view of plaintext ascii solution: [104, 101, 108, 108, 111]\n",
            "Please enter your guess: hello\n",
            "\tComputations starting here are performed on the SERVER.\n",
            "\tServer view of solution: <tenseal.tensors.bfvvector.BFVVector object at 0x7f839b5281d0>\n",
            "\tServer view of guess: (<tenseal.tensors.bfvvector.BFVVector object at 0x7f83a15b0ad0>, <tenseal.tensors.bfvvector.BFVVector object at 0x7f83a15d2c90>, <tenseal.tensors.bfvvector.BFVVector object at 0x7f83a15d20d0>, <tenseal.tensors.bfvvector.BFVVector object at 0x7f83a15d2790>, <tenseal.tensors.bfvvector.BFVVector object at 0x7f83a15d2bd0>)\n",
            "Computations starting here are NO LONGER performed on the SERVER.\n",
            "Client view of encrypted response: (<tenseal.tensors.bfvvector.BFVVector object at 0x7f83a15d2c10>, <tenseal.tensors.bfvvector.BFVVector object at 0x7f83a15d21d0>, <tenseal.tensors.bfvvector.BFVVector object at 0x7f83a15d2910>, <tenseal.tensors.bfvvector.BFVVector object at 0x7f83a15d2f90>, <tenseal.tensors.bfvvector.BFVVector object at 0x7f83a15d2e10>)\n",
            "Response from server: h e l l o \n",
            "CONGRATULATIONS! You guessed the word!\n",
            " x  represents that \"x\" is in the CORRECT spot.\n",
            "[x] represents that \"x\" is in the word, but NOT the correct spot.\n",
            "(x) represents that \"x\" is NOT in the word.\n",
            "Please only guess 5-letter words!\n",
            "Start game? (y/n):\n",
            "n\n",
            "Thanks for playing!\n"
          ]
        }
      ]
    }
  ]
}